{
 "cells": [
  {
   "cell_type": "code",
   "execution_count": 9,
   "metadata": {},
   "outputs": [
    {
     "name": "stdout",
     "output_type": "stream",
     "text": [
      "what computer are you on? a = Ben's laptop, b = gpucluster, c = Ben's desktop, d = otherb\n",
      "home directory is /home/heineike/\n",
      "y1000plus_tools dir is /home/heineike/github/y1000plus_tools/\n",
      "y1000plus genomes dir is /home/heineike/genomes/y1000plus/\n",
      "Importing y1000plus_tools.py\n",
      "The autoreload extension is already loaded. To reload it, use:\n",
      "  %reload_ext autoreload\n"
     ]
    }
   ],
   "source": [
    "# %load std_libraries.py\n",
    "#Indicate operating environment and import core modules\n",
    "import os \n",
    "location_input = input(\"what computer are you on? a = Ben's laptop, b = gpucluster, c = Ben's desktop, d = other\")\n",
    "location_dict = {'a': \"C:\\\\Users\\\\BMH_work\\\\\", 'b': \"/home/heineike/\",\n",
    "                 'c': \"C:\\\\Users\\\\Ben\\\\Documents\\\\\", 'd':'you need to add your location to the location_dict'}\n",
    "home_dir = location_dict[location_input]\n",
    "print(\"home directory is \" + home_dir)\n",
    "base_dir = home_dir + os.path.normpath('github/y1000plus_tools') + os.sep\n",
    "print(\"y1000plus_tools dir is \" + base_dir )\n",
    "y1000plus_dir_options = {'b':home_dir + os.path.normpath(\"genomes/y1000plus\") + os.sep, \n",
    "                         'c': home_dir + os.path.normpath('github/expression_broad_data/expression_data/promoter_phylogenies/y1000plus') + os.sep\n",
    "                        }\n",
    "y1000plus_dir = y1000plus_dir_options[location_input]\n",
    "print(\"y1000plus data dir is \" + y1000plus_dir)\n",
    "\n",
    "import sys\n",
    "\n",
    "if sys.path[-1] != base_dir:\n",
    "    sys.path.append(base_dir)\n",
    "    print(\"Added \" + base_dir + \" to path: \" )\n",
    "    print(sys.path)\n",
    "\n",
    "print(\"Importing y1000plus_tools.py\")\n",
    "from core import y1000plus_tools\n",
    "%load_ext autoreload\n",
    "%autoreload 2\n",
    "\n",
    "\n",
    "import pandas as pd\n",
    "import numpy as np\n",
    "import matplotlib.pyplot as plt\n",
    "\n",
    "from Bio.Seq import Seq\n",
    "from Bio.Alphabet import generic_dna\n",
    "from Bio import SeqIO\n",
    "from ete3 import Tree\n",
    "#ete3 is not officially supported on windows, and so must be loaded via pip: \n",
    "# pip install -U https://github.com/etetoolkit/ete/archive/qt5.zip\n",
    "# ref: https://groups.google.com/forum/#!topic/etetoolkit/6NblSBPij4o\n",
    "#20181031: got this error message: twisted 18.7.0 requires PyHamcrest>=1.9.0, which is not installed.\n"
   ]
  },
  {
   "cell_type": "code",
   "execution_count": 10,
   "metadata": {},
   "outputs": [],
   "source": [
    "y1000_species = pd.read_csv(y1000plus_dir + \"y1000_species_table.csv\", index_col=0)\n",
    "\n",
    "#Select only clades of interest: \n",
    "clades_of_interest = {'Saccharomycetaceae','Saccharomycodaceae','Phaffomycetaceae','CUG-Ser2','CUG-Ser1','Pichiaceae','CUG-Ala'}\n",
    "y1000_species_subset = y1000_species[y1000_species['Major clade'].isin(clades_of_interest)]"
   ]
  },
  {
   "cell_type": "code",
   "execution_count": 24,
   "metadata": {},
   "outputs": [],
   "source": [
    "#genes of interest: \n",
    "\n",
    "#NOtice how many of these genes are very close on the genome MPC3, SOL4, ENO1, GND2\n",
    "\n",
    "\n",
    "gois = ['YGR043C','YLR354C', #Start strong Msn2/4 regulation NQM1/TAL1\n",
    "       'YGR256W', 'YHR183W', #GND2/GND1 - Missing genes swapped between expression and stres. \n",
    "        'YMR105C', 'YKL127W', #PGM2/PGM1 - still has STRE but expression goes away\n",
    "        #'YMR285C','YML118W', #NGL2/NGL3 - Poly-A RNA exonuclease - different OGs \n",
    "        'YGR254W','YHR174W', #ENO1/ENO2\n",
    "        'YGR248W','YHR163W', #SOL4/SOL3 - strong PDS signal\n",
    "        'YGR243W','YHR162W', #MPC3/MPC2 - Start Weak/no Msn2/4 effect: \n",
    "        'YJL164C','YKL166C', #TPK1/TPK3   (but GIS1/RPH1 had an effect and there is a strong PDS) \n",
    "        'YDL021W','YOL056W' #GPM2/GPM3 - #Start average Msn2/4 effect: expression data missing ortholog for high, I'm missing ortholog from low \n",
    "        #'YPL230W','YMR182C' #USV1/RGM1 - Different OGs\n",
    "      ]\n",
    "\n",
    "\n",
    "\n"
   ]
  },
  {
   "cell_type": "code",
   "execution_count": 25,
   "metadata": {},
   "outputs": [
    {
     "data": {
      "text/plain": [
       "['110_821',\n",
       " '110_1753',\n",
       " '110_4266',\n",
       " '110_326',\n",
       " '110_1562',\n",
       " '110_689',\n",
       " '110_757',\n",
       " '110_4425',\n",
       " '110_4019',\n",
       " '110_1058',\n",
       " '110_2707',\n",
       " '110_3574',\n",
       " '110_2527',\n",
       " '110_1854',\n",
       " '110_1259',\n",
       " '110_2716']"
      ]
     },
     "execution_count": 25,
     "metadata": {},
     "output_type": "execute_result"
    }
   ],
   "source": [
    "y1000_ids = dict(scer_lookup.loc[gois,'y1000_id'])\n",
    "y1000_id_list = [y1000_ids[goi] for goi in gois]\n",
    "y1000_id_list"
   ]
  },
  {
   "cell_type": "code",
   "execution_count": 26,
   "metadata": {},
   "outputs": [
    {
     "name": "stdout",
     "output_type": "stream",
     "text": [
      "more than one goi in same orthogroup :OG1193 found_genes: \n",
      "['110_757', '110_4425']\n",
      "more than one goi in same orthogroup :OG1302 found_genes: \n",
      "['110_689', '110_1562']\n",
      "more than one goi in same orthogroup :OG1488 found_genes: \n",
      "['110_326', '110_4266']\n",
      "more than one goi in same orthogroup :OG1667 found_genes: \n",
      "['110_1753', '110_821']\n",
      "more than one goi in same orthogroup :OG1859 found_genes: \n",
      "['110_2707', '110_3574']\n",
      "more than one goi in same orthogroup :OG3991 found_genes: \n",
      "['110_1058', '110_4019']\n",
      "more than one goi in same orthogroup :OG4796 found_genes: \n",
      "['110_1854', '110_2527']\n",
      "more than one goi in same orthogroup :OG6005 found_genes: \n",
      "['110_2716', '110_1259']\n"
     ]
    }
   ],
   "source": [
    "#Make promoter files for various genes of interest\n",
    "#Load S.Cer lookup table: \n",
    "scer_lookup_fname = y1000plus_dir + os.path.normpath('id_lookups/saccharomyces_cerevisiae.csv')\n",
    "\n",
    "scer_lookup = pd.read_csv(scer_lookup_fname, index_col=0)\n",
    "# target_y1000_id = scer_lookup.loc[goi,'y1000_id']\n",
    "\n",
    "y1000_ids = dict(scer_lookup.loc[gois,'y1000_id'])\n",
    "y1000_id_list = [y1000_ids[goi] for goi in gois]\n",
    "y1000_id_list\n",
    "\n",
    "goi_og_lookup, og_genes_lookup = y1000plus_tools.make_og_genes_lookup(y1000_id_list, y1000_species_subset)"
   ]
  },
  {
   "cell_type": "code",
   "execution_count": 27,
   "metadata": {},
   "outputs": [
    {
     "data": {
      "text/plain": [
       "['OG1667',\n",
       " 'OG1667',\n",
       " 'OG1488',\n",
       " 'OG1488',\n",
       " 'OG1302',\n",
       " 'OG1302',\n",
       " 'OG1193',\n",
       " 'OG1193',\n",
       " 'OG3991',\n",
       " 'OG3991',\n",
       " 'OG1859',\n",
       " 'OG1859',\n",
       " 'OG4796',\n",
       " 'OG4796',\n",
       " 'OG6005',\n",
       " 'OG6005']"
      ]
     },
     "execution_count": 27,
     "metadata": {},
     "output_type": "execute_result"
    }
   ],
   "source": [
    "[goi_og_lookup[y1000_ids[goi]] for goi in gois]"
   ]
  },
  {
   "cell_type": "code",
   "execution_count": 97,
   "metadata": {},
   "outputs": [
    {
     "name": "stdout",
     "output_type": "stream",
     "text": [
      "what computer are you on? a = Ben's laptop, b = gpucluster, c = Ben's desktop, d = otherb\n",
      "home directory is /home/heineike/\n",
      "y1000plus_tools dir is /home/heineike/github/y1000plus_tools/\n",
      "y1000plus genomes dir is /home/heineike/genomes/y1000plus/\n",
      "TPK1_TPK3\n",
      "promoter region extends past the scaffold, genome_name = yHMPu5000035703_cyberlindnera_americana_160613 Gene = Seq_4055, L_prom = 1000\n",
      "promoter region extends past the scaffold, genome_name = yHMPu5000034623_pichia_norvegensis_160519 Gene = Seq_641, L_prom = 1000\n",
      "scaffold ends at the end of the gene, genome_name = yHMPu5000034623_pichia_norvegensis_160519 Gene = Seq_641\n",
      "promoter region extends past the scaffold, genome_name = yHMPu5000034627_pichia_heedii_160519 Gene = Seq_3722, L_prom = 1000\n",
      "promoter region extends past the scaffold, genome_name = yHMPu5000035318_hyphopichia_heimii_160928 Gene = Seq_422, L_prom = 1000\n",
      "TPK1_TPK3 complete\n",
      "NQM1_TAL1\n",
      "promoter region extends past the scaffold, genome_name = yHMPu5000034963_hanseniaspora_clermontiae_160519 Gene = Seq_729, L_prom = 1000\n",
      "promoter region extends past the scaffold, genome_name = yHMPu5000034952_citeromyces_siamensis_160519 Gene = Seq_5207, L_prom = 1000\n",
      "scaffold ends at the end of the gene, genome_name = yHMPu5000034952_citeromyces_siamensis_160519 Gene = Seq_5207\n",
      "promoter region extends past the scaffold, genome_name = yHMPu5000034865_zygosaccharomyces_kombuchaensis_160519 Gene = Seq_3034, L_prom = 1000\n",
      "NQM1_TAL1 complete\n",
      "PGM2_PGM1\n",
      "promoter region extends past the scaffold, genome_name = yHMPu5000035689_candida_mycetangii_160613 Gene = Seq_4844, L_prom = 1000\n",
      "promoter region extends past the scaffold, genome_name = yHMPu5000034877_tetrapisispora_namnaonensis_160519 Gene = Seq_5282, L_prom = 1000\n",
      "promoter region extends past the scaffold, genome_name = yHMPu5000034875_tetrapisispora_fleetii_160519 Gene = Seq_561, L_prom = 1000\n",
      "promoter region extends past the scaffold, genome_name = yHMPu5000034709_kluyveromyces_aestuarii_160519 Gene = Seq_2561, L_prom = 1000\n",
      "PGM2_PGM1 complete\n",
      "MPC3_MPC2\n",
      "promoter region extends past the scaffold, genome_name = metschnikowia_matae_maris Gene = Seq_6053, L_prom = 1000\n",
      "promoter region extends past the scaffold, genome_name = yHMPu5000026142_citeromyces_matritensis_160519 Gene = Seq_7350, L_prom = 1000\n",
      "promoter region extends past the scaffold, genome_name = yHMPu5000034952_citeromyces_siamensis_160519 Gene = Seq_2637, L_prom = 1000\n",
      "MPC3_MPC2 complete\n",
      "SOL4_SOL3\n",
      "promoter region extends past the scaffold, genome_name = yHMPu5000035673_candida_orba_160613 Gene = Seq_827, L_prom = 1000\n",
      "promoter region extends past the scaffold, genome_name = yHMPu5000034952_citeromyces_siamensis_160519 Gene = Seq_10680, L_prom = 1000\n",
      "SOL4_SOL3 complete\n",
      "ENO1_ENO2\n",
      "promoter region extends past the scaffold, genome_name = yHMPu5000035018_candida_canberraensis_160519 Gene = Seq_412, L_prom = 1000\n",
      "promoter region extends past the scaffold, genome_name = yHMPu5000034901_ogataea_methylivora_160519 Gene = Seq_5239, L_prom = 1000\n",
      "promoter region extends past the scaffold, genome_name = vanderwaltozyma_polyspora Gene = Seq_4158, L_prom = 1000\n",
      "promoter region extends past the scaffold, genome_name = spathaspora_girioi Gene = Seq_4428, L_prom = 1000\n",
      "promoter region extends past the scaffold, genome_name = spathaspora_girioi Gene = Seq_2691, L_prom = 1000\n",
      "promoter region extends past the scaffold, genome_name = yHMPu5000034607_saccharomycopsis_capsularis_160519 Gene = Seq_1806, L_prom = 1000\n",
      "ENO1_ENO2 complete\n",
      "GPM2_GPM3\n",
      "GPM2_GPM3 complete\n",
      "GND2_GND1\n",
      "promoter region extends past the scaffold, genome_name = yHMPu5000034967_candida_freyschussii_160519 Gene = Seq_4966, L_prom = 1000\n",
      "promoter region extends past the scaffold, genome_name = yHMPu5000034918_nakazawaea_holstii_160519 Gene = Seq_4244, L_prom = 1000\n",
      "promoter region extends past the scaffold, genome_name = yHAB159_kazachstania_solicola_160519 Gene = Seq_680, L_prom = 1000\n",
      "promoter region extends past the scaffold, genome_name = spathaspora_hagerdaliae Gene = Seq_6862, L_prom = 1000\n",
      "promoter region extends past the scaffold, genome_name = yHAB155_kazachstania_spencerorum_160519 Gene = Seq_5608, L_prom = 1000\n",
      "promoter region extends past the scaffold, genome_name = yHMPu5000035684_kloeckera_hatyaiensis_160519 Gene = Seq_4508, L_prom = 1000\n",
      "scaffold ends at the end of the gene, genome_name = yHMPu5000035684_kloeckera_hatyaiensis_160519 Gene = Seq_4508\n",
      "GND2_GND1 complete\n"
     ]
    }
   ],
   "source": [
    "#Consolidate pairs with orthogroups\n",
    "goi_pair_og_lookup =  {'NQM1_TAL1': 'OG1667', \n",
    "                     'GND2_GND1': 'OG1488', \n",
    "                     'PGM2_PGM1': 'OG1302', \n",
    "                     'ENO1_ENO2': 'OG1193', \n",
    "                     'SOL4_SOL3': 'OG3991', \n",
    "                     'MPC3_MPC2': 'OG1859', \n",
    "                     'TPK1_TPK3': 'OG4796',\n",
    "                     'GPM2_GPM3': 'OG6005'\n",
    "                    }\n",
    "\n",
    "\n",
    "L_prom = 1000\n",
    "\n",
    "for goi_pair, og in goi_pair_og_lookup.items(): \n",
    "    print(goi_pair)\n",
    "    og_genes =  og_genes_lookup[og]\n",
    "    \n",
    "    #For a given orthogroup extract promoters\n",
    "\n",
    "    y1000plus_tools.extract_promoters(L_prom, og, og_genes, y1000_species_subset, fname_string=goi_pair)\n",
    "    print(goi_pair + ' complete')"
   ]
  },
  {
   "cell_type": "code",
   "execution_count": null,
   "metadata": {},
   "outputs": [],
   "source": [
    "#Find STRE/PDS/TATA box in promoters"
   ]
  },
  {
   "cell_type": "code",
   "execution_count": null,
   "metadata": {},
   "outputs": [],
   "source": [
    "#Make phylogenetic trees for various genes of interest"
   ]
  },
  {
   "cell_type": "code",
   "execution_count": null,
   "metadata": {},
   "outputs": [],
   "source": [
    "#Visualize STRE and phylogenetic tree\n",
    "\n",
    "#Arrange promoters according to gene's phylogenetic tree\n"
   ]
  },
  {
   "cell_type": "code",
   "execution_count": null,
   "metadata": {},
   "outputs": [],
   "source": []
  },
  {
   "cell_type": "code",
   "execution_count": null,
   "metadata": {},
   "outputs": [],
   "source": []
  },
  {
   "cell_type": "code",
   "execution_count": null,
   "metadata": {},
   "outputs": [],
   "source": []
  }
 ],
 "metadata": {
  "kernelspec": {
   "display_name": "Python 3",
   "language": "python",
   "name": "python3"
  },
  "language_info": {
   "codemirror_mode": {
    "name": "ipython",
    "version": 3
   },
   "file_extension": ".py",
   "mimetype": "text/x-python",
   "name": "python",
   "nbconvert_exporter": "python",
   "pygments_lexer": "ipython3",
   "version": "3.7.0"
  }
 },
 "nbformat": 4,
 "nbformat_minor": 2
}
