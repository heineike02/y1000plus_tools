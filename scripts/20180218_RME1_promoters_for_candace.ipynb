{
 "cells": [
  {
   "cell_type": "code",
   "execution_count": 5,
   "metadata": {},
   "outputs": [
    {
     "name": "stdout",
     "output_type": "stream",
     "text": [
      "what computer are you on? a = Ben's laptop, b = gpucluster, c = Ben's desktop, d = otherb\n",
      "home directory is /home/heineike/\n",
      "y1000plus_tools dir is /home/heineike/github/y1000plus_tools/\n",
      "y1000plus genomes dir is /home/heineike/genomes/y1000plus/\n",
      "Added /home/heineike/github/y1000plus_tools/ to path: \n",
      "['', '/home/lab/envs/seqanalysis/lib/python35.zip', '/home/lab/envs/seqanalysis/lib/python3.5', '/home/lab/envs/seqanalysis/lib/python3.5/plat-linux', '/home/lab/envs/seqanalysis/lib/python3.5/lib-dynload', '/home/lab/envs/seqanalysis/lib/python3.5/site-packages', '/home/lab/envs/seqanalysis/lib/python3.5/site-packages/argh-0.26.1-py3.5.egg', '/home/lab/envs/seqanalysis/lib/python3.5/site-packages/glob2-0.4.1-py3.5.egg', '/home/lab/envs/seqanalysis/lib/python3.5/site-packages/mmtf_python-1.0.2-py3.5.egg', '/home/lab/envs/seqanalysis/lib/python3.5/site-packages/IPython/extensions', '/home/heineike/.ipython', '/home/heineike/github/y1000plus_tools/']\n",
      "Importing y1000plus_tools.py\n",
      "what computer are you on? a = Ben's laptop, b = gpucluster, c = Ben's desktop, d = otherb\n",
      "home directory is /home/heineike/\n",
      "y1000plus_tools dir is /home/heineike/github/y1000plus_tools/\n",
      "y1000plus data dir is /home/heineike/genomes/y1000plus/\n"
     ]
    }
   ],
   "source": [
    "# %load std_libraries.py\n",
    "#Indicate operating environment and import core modules\n",
    "import os \n",
    "location_input = input(\"what computer are you on? a = Ben's laptop, b = gpucluster, c = Ben's desktop, d = other\")\n",
    "location_dict = {'a': \"C:\\\\Users\\\\BMH_work\\\\\", 'b': \"/home/heineike/\",\n",
    "                 'c': \"C:\\\\Users\\\\Ben\\\\Documents\\\\\", 'd':'you need to add your location to the location_dict'}\n",
    "home_dir = location_dict[location_input]\n",
    "print(\"home directory is \" + home_dir)\n",
    "base_dir = home_dir + os.path.normpath('github/y1000plus_tools') + os.sep\n",
    "print(\"y1000plus_tools dir is \" + base_dir )\n",
    "y1000plus_dir = home_dir + os.path.normpath(\"genomes/y1000plus\") + os.sep\n",
    "print(\"y1000plus genomes dir is \" + y1000plus_dir)\n",
    "\n",
    "import sys\n",
    "\n",
    "if sys.path[-1] != base_dir:\n",
    "    sys.path.append(base_dir)\n",
    "    print(\"Added \" + base_dir + \" to path: \" )\n",
    "    print(sys.path)\n",
    "\n",
    "print(\"Importing y1000plus_tools.py\")\n",
    "from core import y1000plus_tools\n",
    "%load_ext autoreload\n",
    "%autoreload 2\n",
    "\n",
    "\n",
    "import pandas as pd\n",
    "import numpy as np\n",
    "import matplotlib.pyplot as plt\n",
    "\n",
    "from Bio.Seq import Seq\n",
    "from Bio.Alphabet import generic_dna\n",
    "from Bio import SeqIO\n",
    "from ete3 import Tree\n",
    "#ete3 is not officially supported on windows, and so must be loaded via pip: \n",
    "# pip install -U https://github.com/etetoolkit/ete/archive/qt5.zip\n",
    "# ref: https://groups.google.com/forum/#!topic/etetoolkit/6NblSBPij4o\n",
    "#20181031: got this error message: twisted 18.7.0 requires PyHamcrest>=1.9.0, which is not installed.\n"
   ]
  },
  {
   "cell_type": "code",
   "execution_count": 41,
   "metadata": {},
   "outputs": [],
   "source": [
    "#Find all the promoters for RME1 (YGR044C)\n",
    "goi = 'YGR044C'\n",
    "\n",
    "#load species table\n",
    "y1000_species = pd.read_csv(y1000plus_dir + \"y1000_species_table.csv\", index_col=0)\n",
    "y1000_species_subset = y1000_species[y1000_species['Major clade']!='outgroup']\n",
    "\n",
    "#Load S.Cer lookup table: \n",
    "scer_lookup_fname = y1000plus_dir + os.path.normpath('id_lookups/saccharomyces_cerevisiae.csv')\n",
    "\n",
    "scer_lookup = pd.read_csv(scer_lookup_fname, index_col=0)\n",
    "target_y1000_id = scer_lookup.loc[goi,'y1000_id']\n",
    "\n",
    "y1000_id_list = [target_y1000_id]\n",
    "goi_og_lookup, og_genes_lookup = y1000plus_tools.make_og_genes_lookup(y1000_id_list, y1000_species_subset)\n",
    "og = goi_og_lookup[target_y1000_id]\n",
    "og_genes = og_genes_lookup[og]"
   ]
  },
  {
   "cell_type": "code",
   "execution_count": null,
   "metadata": {},
   "outputs": [],
   "source": [
    "#Following outgroup species not included: \n",
    "333      arthrobotrys_oligospora\n",
    "334         aspergillus_nidulans\n",
    "335             botrytis_cinerea\n",
    "336         Coccidioides_immitis\n",
    "337         fusarium_graminearum\n",
    "338            neurospora_crassa\n",
    "339         Saitoella_complicata\n",
    "340     sclerotinia_sclerotiorum\n",
    "341         stagonospora_nodorum\n",
    "342                xylona_heveae\n",
    "343    schizosaccharomyces_pombe"
   ]
  },
  {
   "cell_type": "code",
   "execution_count": 35,
   "metadata": {},
   "outputs": [],
   "source": [
    "#Built gtf files that weren't already built \n",
    "#Note:  had to skip C. Albicans\n",
    "\n",
    "# y1000_species_subset = y1000_species[y1000_species['Major clade']!='Saccharomycetaceae']\n",
    "# y1000_species_subset_subset=y1000_species_subset[y1000_species_subset.index>=336]\n",
    "# #stopped when it got to outgroup set - that means there are probably not gtfs for the outgroups.  \n",
    "# #probably why the notations failed for the protein annotations as well. \n",
    "# y1000plus_tools.make_gtf_dbs(y1000_species_subset_subset)"
   ]
  },
  {
   "cell_type": "code",
   "execution_count": 54,
   "metadata": {},
   "outputs": [
    {
     "data": {
      "text/plain": [
       "'191_3035, 307_5805, 142_5169, 114_161, 321_884, 52_3093, 46_3847, 168_4664, 239_2725, 318_3245, 278_3262, 253_1101, 300_3364, 310_4072, 6_1902, 13_3904, 320_2133, 249_2404, 106_2619, 299_4342, 16_5613, 105_457, 56_4151, 281_1024, 157_3110, 296_2481, 322_5805, 139_744, 159_4479, 166_2896, 54_3393, 302_5054, 233_1368, 271_1958, 51_2989, 135_4083, 111_2056, 233_2811, 234_3359, 14_1198, 219_4515, 189_5349, 101_4916, 269_2329, 208_952, 156_3768, 230_5115, 63_2282, 47_701, 258_5098, 228_295, 308_471, 272_5038, 275_5639, 231_1017, 19_1488, 306_5171, 207_1284, 146_2143, 152_729, 199_2664, 164_4602, 53_2230, 190_1080, 240_3370, 98_4768, 156_4799, 246_6130, 224_5610, 248_4295, 61_2483, 97_1645, 109_4006, 104_3266, 34_2473, 226_1802, 250_4622, 289_4328, 55_4293, 287_4165, 158_10, 291_188, 0_5303, 92_4667, 9_1149, 293_3911, 247_1958, 232_1048, 217_3716, 239_1062, 203_9047, 131_5131, 308_1688, 99_4923, 154_1052, 103_5295, 148_3840, 317_1682, 45_2610, 99_1960, 297_1734, 277_76, 58_1069, 238_57, 326_4441, 150_5132, 214_6372, 115_1436, 305_3138, 95_213, 279_1699, 280_2480, 145_948, 298_2806, 57_3781, 116_1608, 6_3253, 106_2303, 169_2683, 110_5778, 237_1571, 323_690, 265_4577, 27_2738, 268_4265, 206_4677, 270_1720, 309_2571, 44_2341, 156_2982, 316_3323, 147_2452, 324_2442, 49_4121, 160_1146, 332_5085, 205_3687, 140_6405, 149_5140, 113_2700, 151_3863, 167_4550, 341_3557, 223_204, 201_1737, 257_478, 299_2922, 325_2308, 50_2982, 225_4684, 136_2312, 342_305, 242_4182, 229_5550, 171_5993, 143_725, 155_3300, 236_2754, 204_703, 59_4621, 65_571, 35_2167, 283_4462, 62_904, 144_4715, 319_4400, 100_95, 218_1334, 132_3003, 64_528, 5_5208, 275_2014, 112_2346, 60_2120, 48_4495, 252_4295'"
      ]
     },
     "execution_count": 54,
     "metadata": {},
     "output_type": "execute_result"
    }
   ],
   "source": [
    "', '.join(list(og_genes_lookup['OG5100']))"
   ]
  },
  {
   "cell_type": "code",
   "execution_count": 48,
   "metadata": {},
   "outputs": [
    {
     "name": "stdout",
     "output_type": "stream",
     "text": [
      "what computer are you on? a = Ben's laptop, b = gpucluster, c = Ben's desktop, d = otherb\n",
      "home directory is /home/heineike/\n",
      "y1000plus_tools dir is /home/heineike/github/y1000plus_tools/\n",
      "y1000plus genomes dir is /home/heineike/genomes/y1000plus/\n",
      "promoter region extends past the scaffold, genome_name = hanseniaspora_valbyensis Gene = Seq_2611, L_prom = 500\n",
      "promoter region extends past the scaffold, genome_name = yHAB159_kazachstania_solicola_160519 Gene = Seq_3769, L_prom = 500\n",
      "promoter region extends past the scaffold, genome_name = yHMPu5000034673_blastobotrys_nivea_160519 Gene = Seq_9048, L_prom = 500\n",
      "promoter region extends past the scaffold, genome_name = yHMPu5000035650_trigonopsis_variabilis_160613 Gene = Seq_2807, L_prom = 500\n"
     ]
    }
   ],
   "source": [
    "#For a given orthogroup extract promoters\n",
    "\n",
    "L_prom = 500\n",
    "\n",
    "\n",
    "y1000plus_tools.extract_promoters(L_prom, og, og_genes, y1000_species_subset, fname_string='RME1')"
   ]
  },
  {
   "cell_type": "code",
   "execution_count": null,
   "metadata": {},
   "outputs": [],
   "source": []
  }
 ],
 "metadata": {
  "kernelspec": {
   "display_name": "seqanalysis",
   "language": "python",
   "name": "seqanalysis"
  },
  "language_info": {
   "codemirror_mode": {
    "name": "ipython",
    "version": 3
   },
   "file_extension": ".py",
   "mimetype": "text/x-python",
   "name": "python",
   "nbconvert_exporter": "python",
   "pygments_lexer": "ipython3",
   "version": "3.5.5"
  }
 },
 "nbformat": 4,
 "nbformat_minor": 2
}
