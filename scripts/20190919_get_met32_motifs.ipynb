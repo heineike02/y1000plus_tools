{
 "cells": [
  {
   "cell_type": "code",
   "execution_count": 2,
   "metadata": {},
   "outputs": [
    {
     "name": "stdout",
     "output_type": "stream",
     "text": [
      "what computer are you on? a = Ben's laptop, b = gpucluster, c = Ben's desktop, d = otherb\n",
      "home directory is /home/heineike/\n",
      "y1000plus_tools dir is /home/heineike/github/y1000plus_tools/\n",
      "y1000plus data dir is /home/heineike/genomes/y1000plus/\n",
      "Added /home/heineike/github/y1000plus_tools/ to path\n",
      "Importing y1000plus_tools.py\n",
      "home directory is \n",
      "y1000plus_tools dir is \n",
      "y1000plus data dir is \n",
      "Added /home/heineike/github/expression_broad_data/core/ to path\n",
      "importing io_library.py\n",
      "Importing io_library.  If autoreload, may need to reset base_dir and data_processing dir \n",
      "  io_library.base_dir=base_dir \n",
      " io_library.data_processing_dir = data_processing_dir\n",
      "sys.path : \n",
      "\n",
      "['/home/heineike/github/y1000plus_tools/scripts', '', '/home/lab/envs/seqanalysis/lib/python35.zip', '/home/lab/envs/seqanalysis/lib/python3.5', '/home/lab/envs/seqanalysis/lib/python3.5/plat-linux', '/home/lab/envs/seqanalysis/lib/python3.5/lib-dynload', '/home/lab/envs/seqanalysis/lib/python3.5/site-packages', '/home/lab/envs/seqanalysis/lib/python3.5/site-packages/argh-0.26.1-py3.5.egg', '/home/lab/envs/seqanalysis/lib/python3.5/site-packages/glob2-0.4.1-py3.5.egg', '/home/lab/envs/seqanalysis/lib/python3.5/site-packages/mmtf_python-1.0.2-py3.5.egg', '/home/lab/envs/seqanalysis/lib/python3.5/site-packages/IPython/extensions', '/home/heineike/.ipython', '/home/heineike/github/y1000plus_tools/', '/home/heineike/github/expression_broad_data/core/']\n"
     ]
    }
   ],
   "source": [
    "# %load notebook_setup.py\n",
    "#Use %load notebook_setup.py to load these commands at the top of your\n",
    "#ipython notebook.  Includes running the std_libraries.py file. \n",
    "\n",
    "%run std_libraries.py\n",
    "%load_ext autoreload\n",
    "%autoreload 2\n",
    "# %matplotlib \n",
    "# plt.ioff()\n",
    "%matplotlib inline\n",
    "#%matplotlib notebook"
   ]
  },
  {
   "cell_type": "code",
   "execution_count": 5,
   "metadata": {},
   "outputs": [
    {
     "data": {
      "text/plain": [
       "<module 'core.y1000plus_tools' from '/home/heineike/github/y1000plus_tools/core/y1000plus_tools.py'>"
      ]
     },
     "execution_count": 5,
     "metadata": {},
     "output_type": "execute_result"
    }
   ],
   "source": []
  },
  {
   "cell_type": "code",
   "execution_count": 12,
   "metadata": {},
   "outputs": [
    {
     "data": {
      "text/plain": [
       "'/home/heineike/meme/bin/meme /home/heineike/github/y1000plus_tools/data/gcn4_liron/Met32_Met4_intersect_allpeaks_1kb.fasta -neg /home/heineike/github/expression_broad_data/expression_data/promoter_phylogeny/promoter_sets/Scer/all_promoters_1000.fasta -dna -oc /home/heineike/github/y1000plus_tools/data/gcn4_liron/meme_results_met -time 18000 -mod anr -nmotifs 5 -minw 5 -maxw 20 -objfun de -revcomp'"
      ]
     },
     "execution_count": 12,
     "metadata": {},
     "output_type": "execute_result"
    }
   ],
   "source": [
    "meme_command = ([ home_dir + \"meme/bin/meme\", \n",
    "                  \"/home/heineike/github/y1000plus_tools/data/gcn4_liron/Met32_Met4_intersect_allpeaks_1kb.fasta\", \n",
    "                  \"-neg\", \"/home/heineike/github/expression_broad_data/expression_data/promoter_phylogeny/promoter_sets/Scer/all_promoters_1000.fasta\", #Control sequences\n",
    "                  \"-dna\", \n",
    "                  \"-oc\", \"/home/heineike/github/y1000plus_tools/data/gcn4_liron/meme_results_met\",\n",
    "                  #\"-nostatus\",   #doesn't output status\n",
    "                  \"-time\", \"18000\", #max running time\n",
    "                  \"-mod\", \"anr\",   #anr means any number of repeats in a sequence\n",
    "                  \"-nmotifs\", \"5\",   #stop searching after top 5 motifs in a given seq\n",
    "                  \"-minw\", \"5\",      #minimum motif width\n",
    "                  \"-maxw\", \"20\",     #Max motif width\n",
    "                  \"-objfun\", \"de\",   # without DE is classic\"\n",
    "                  \"-revcomp\",\n",
    "                  #\"-markov_order\", \"0\" #Default is 0\n",
    "                ])\n",
    "\n",
    "\" \".join(meme_command)"
   ]
  },
  {
   "cell_type": "code",
   "execution_count": null,
   "metadata": {},
   "outputs": [],
   "source": [
    "meme_command = ([ home_dir + \"meme/bin/fimo\",\n",
    "                      \"--oc\", output_dir,\n",
    "                      \"--verbosity\", \"1\",\n",
    "                      \"--thresh\", str(thresh)] +\n",
    "                     motif_arg + \n",
    "                     [ motif_fname,\n",
    "                       promoters_fname]\n",
    "                   )\n",
    "\n",
    "print('fimo command:\\n' + ' '.join(fimo_command))\n",
    "\n",
    "fimo_output = subprocess.run(fimo_command,stdout = subprocess.PIPE) \n"
   ]
  }
 ],
 "metadata": {
  "kernelspec": {
   "display_name": "Python 3",
   "language": "python",
   "name": "python3"
  },
  "language_info": {
   "codemirror_mode": {
    "name": "ipython",
    "version": 3
   },
   "file_extension": ".py",
   "mimetype": "text/x-python",
   "name": "python",
   "nbconvert_exporter": "python",
   "pygments_lexer": "ipython3",
   "version": "3.7.9"
  }
 },
 "nbformat": 4,
 "nbformat_minor": 4
}
