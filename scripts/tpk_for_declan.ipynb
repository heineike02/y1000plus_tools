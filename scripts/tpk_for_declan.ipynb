{
 "cells": [
  {
   "cell_type": "code",
   "execution_count": 1,
   "metadata": {},
   "outputs": [
    {
     "name": "stdout",
     "output_type": "stream",
     "text": [
      "New users will need to update the y1000plus_tools, y1000plus_dir, figsave_dir, and yeast_esr_exp_dir (if those libraries are being used)\n",
      "y1000plus_tools dir is C:\\Users\\heineib\\Documents\\GitHub\\y1000plus_tools\\\n",
      "y1000plus data dir is C:\\Users\\heineib\\Documents\\GitHub\\y1000plus_tools\\data\\\n",
      "Added C:\\Users\\heineib\\Documents\\GitHub\\y1000plus_tools\\ to path\n"
     ]
    },
    {
     "name": "stdin",
     "output_type": "stream",
     "text": [
      "Use yeast_esr_expression functions? (Y/n) Y\n"
     ]
    },
    {
     "name": "stdout",
     "output_type": "stream",
     "text": [
      "Added C:\\Users\\heineib\\Documents\\GitHub\\yeast_esr_expression_analysis\\ to path\n",
      "Importing yeast_esr_exp.  If autoreload, may need to reset base_dir and data_processing dir \n",
      "  yeast_esr_exp.base_dir=base_dir \n",
      " yeast_esr_exp.data_processing_dir = data_processing_dir\n",
      "Importing y1000plus_tools.py\n",
      "y1000plus_tools dir is unset\n",
      "y1000plus data dir is unset\n",
      "importing yeast_esr_exp\n",
      "['C:\\\\Users\\\\heineib\\\\Documents\\\\GitHub\\\\y1000plus_tools\\\\scripts', 'C:\\\\Users\\\\heineib\\\\Anaconda3\\\\envs\\\\sc_seq_py\\\\python37.zip', 'C:\\\\Users\\\\heineib\\\\Anaconda3\\\\envs\\\\sc_seq_py\\\\DLLs', 'C:\\\\Users\\\\heineib\\\\Anaconda3\\\\envs\\\\sc_seq_py\\\\lib', 'C:\\\\Users\\\\heineib\\\\Anaconda3\\\\envs\\\\sc_seq_py', '', 'C:\\\\Users\\\\heineib\\\\Anaconda3\\\\envs\\\\sc_seq_py\\\\lib\\\\site-packages', 'C:\\\\Users\\\\heineib\\\\Anaconda3\\\\envs\\\\sc_seq_py\\\\lib\\\\site-packages\\\\ete3-3.1.2-py3.7.egg', 'C:\\\\Users\\\\heineib\\\\Anaconda3\\\\envs\\\\sc_seq_py\\\\lib\\\\site-packages\\\\win32', 'C:\\\\Users\\\\heineib\\\\Anaconda3\\\\envs\\\\sc_seq_py\\\\lib\\\\site-packages\\\\win32\\\\lib', 'C:\\\\Users\\\\heineib\\\\Anaconda3\\\\envs\\\\sc_seq_py\\\\lib\\\\site-packages\\\\Pythonwin', 'C:\\\\Users\\\\heineib\\\\Anaconda3\\\\envs\\\\sc_seq_py\\\\lib\\\\site-packages\\\\IPython\\\\extensions', 'C:\\\\Users\\\\heineib\\\\.ipython', 'C:\\\\Users\\\\heineib\\\\Documents\\\\GitHub\\\\y1000plus_tools\\\\', 'C:\\\\Users\\\\heineib\\\\Documents\\\\GitHub\\\\yeast_esr_expression_analysis\\\\']\n",
      "sys.path : \n",
      "\n",
      "['C:\\\\Users\\\\heineib\\\\Documents\\\\GitHub\\\\y1000plus_tools\\\\scripts', 'C:\\\\Users\\\\heineib\\\\Anaconda3\\\\envs\\\\sc_seq_py\\\\python37.zip', 'C:\\\\Users\\\\heineib\\\\Anaconda3\\\\envs\\\\sc_seq_py\\\\DLLs', 'C:\\\\Users\\\\heineib\\\\Anaconda3\\\\envs\\\\sc_seq_py\\\\lib', 'C:\\\\Users\\\\heineib\\\\Anaconda3\\\\envs\\\\sc_seq_py', '', 'C:\\\\Users\\\\heineib\\\\Anaconda3\\\\envs\\\\sc_seq_py\\\\lib\\\\site-packages', 'C:\\\\Users\\\\heineib\\\\Anaconda3\\\\envs\\\\sc_seq_py\\\\lib\\\\site-packages\\\\ete3-3.1.2-py3.7.egg', 'C:\\\\Users\\\\heineib\\\\Anaconda3\\\\envs\\\\sc_seq_py\\\\lib\\\\site-packages\\\\win32', 'C:\\\\Users\\\\heineib\\\\Anaconda3\\\\envs\\\\sc_seq_py\\\\lib\\\\site-packages\\\\win32\\\\lib', 'C:\\\\Users\\\\heineib\\\\Anaconda3\\\\envs\\\\sc_seq_py\\\\lib\\\\site-packages\\\\Pythonwin', 'C:\\\\Users\\\\heineib\\\\Anaconda3\\\\envs\\\\sc_seq_py\\\\lib\\\\site-packages\\\\IPython\\\\extensions', 'C:\\\\Users\\\\heineib\\\\.ipython', 'C:\\\\Users\\\\heineib\\\\Documents\\\\GitHub\\\\y1000plus_tools\\\\', 'C:\\\\Users\\\\heineib\\\\Documents\\\\GitHub\\\\yeast_esr_expression_analysis\\\\']\n"
     ]
    }
   ],
   "source": [
    "# %load notebook_setup.py\n",
    "#Use %load notebook_setup.py to load these commands at the top of your\n",
    "#ipython notebook.  Includes running the std_libraries.py file. \n",
    "\n",
    "%run std_libraries.py\n",
    "%load_ext autoreload\n",
    "%autoreload 2\n",
    "# %matplotlib \n",
    "# plt.ioff()\n",
    "#%matplotlib inline\n",
    "%matplotlib notebook"
   ]
  },
  {
   "cell_type": "code",
   "execution_count": 3,
   "metadata": {},
   "outputs": [],
   "source": [
    "\n",
    "y1000_plus_dir_ubuntu = '/home/heineike/GitHub/y1000plus_tools/data/'\n",
    "#metproj_data_dir = os.path.normpath('C:/Users/heineib/Google Drive/Crick_LMS/projects/jason_met_auxotrophy') + os.sep\n",
    "\n",
    "aln_fname_base_win = y1000plus_dir + os.path.normpath('y1000plus_tools_data/y1000plus/proteins_og') + os.sep\n",
    "\n",
    "\n",
    "y1000_species = pd.read_csv(y1000plus_dir + os.path.normpath(\"y1000plus_tools_data/y1000plus/y1000_species_table.csv\"), index_col=0)\n",
    "\n",
    "#Select only clades of interest: \n",
    "#clades_of_interest = {'Saccharomycetaceae','Saccharomycodaceae','Phaffomycetaceae','CUG-Ser2','CUG-Ser1','Pichiaceae','CUG-Ala'}\n",
    "#clades_of_interest = {'Saccharomycetaceae', 'Saccharomycodaceae'}\n",
    "#outgroups = [ 'Wickerhamomyces anomalus','Cyberlindnera jadinii', 'Ascoidea rubescens','Komagataella pastoris','Debaryomyces hansenii', 'Candida albicans', 'Yarrowia lipolytica']\n",
    "#outgroup = 'Yarrowia lipolytica'\n",
    "\n",
    "#y1000_species_subset = y1000_species[(y1000_species['Major clade'].isin(clades_of_interest))  |  (y1000_species['Species name'].isin(outgroups))]\n",
    "\n",
    "\n",
    "#outgroup = 'Hanseniaspora vineae'  #For EGO2/4 - only Sacch so use different outgroup\n",
    "#y1000_species_subset = pd.concat([y1000_species_subset, y1000_species[y1000_species['Species name']==outgroup]])\n",
    "\n",
    "y1000_species_subset = y1000_species[y1000_species['Major clade']!='outgroup']\n",
    "#y1000_species_subset = y1000_species"
   ]
  },
  {
   "cell_type": "code",
   "execution_count": 4,
   "metadata": {},
   "outputs": [],
   "source": []
  },
  {
   "cell_type": "code",
   "execution_count": 2,
   "metadata": {},
   "outputs": [
    {
     "ename": "FileNotFoundError",
     "evalue": "[Errno 2] No such file or directory: 'C:\\\\Users\\\\heineib\\\\Documents\\\\GitHub\\\\y1000plus_tools\\\\data\\\\y1000_species_table.csv'",
     "output_type": "error",
     "traceback": [
      "\u001b[1;31m---------------------------------------------------------------------------\u001b[0m",
      "\u001b[1;31mFileNotFoundError\u001b[0m                         Traceback (most recent call last)",
      "\u001b[1;32m<ipython-input-2-52d7da87ded9>\u001b[0m in \u001b[0;36m<module>\u001b[1;34m\u001b[0m\n\u001b[1;32m----> 1\u001b[1;33m \u001b[0my1000_species\u001b[0m \u001b[1;33m=\u001b[0m \u001b[0mpd\u001b[0m\u001b[1;33m.\u001b[0m\u001b[0mread_csv\u001b[0m\u001b[1;33m(\u001b[0m\u001b[0my1000plus_dir\u001b[0m \u001b[1;33m+\u001b[0m \u001b[1;34m\"y1000_species_table.csv\"\u001b[0m\u001b[1;33m,\u001b[0m \u001b[0mindex_col\u001b[0m\u001b[1;33m=\u001b[0m\u001b[1;36m0\u001b[0m\u001b[1;33m)\u001b[0m\u001b[1;33m\u001b[0m\u001b[1;33m\u001b[0m\u001b[0m\n\u001b[0m\u001b[0;32m      2\u001b[0m \u001b[1;33m\u001b[0m\u001b[0m\n\u001b[0;32m      3\u001b[0m \u001b[1;31m#Select only clades of interest:\u001b[0m\u001b[1;33m\u001b[0m\u001b[1;33m\u001b[0m\u001b[1;33m\u001b[0m\u001b[0m\n\u001b[0;32m      4\u001b[0m \u001b[1;31m#clades_of_interest = {'Saccharomycetaceae','Saccharomycodaceae','Phaffomycetaceae','CUG-Ser2','CUG-Ser1','Pichiaceae','CUG-Ala'}\u001b[0m\u001b[1;33m\u001b[0m\u001b[1;33m\u001b[0m\u001b[1;33m\u001b[0m\u001b[0m\n\u001b[0;32m      5\u001b[0m \u001b[1;31m#clades_of_interest = {'Saccharomycetaceae', 'Saccharomycodaceae'}\u001b[0m\u001b[1;33m\u001b[0m\u001b[1;33m\u001b[0m\u001b[1;33m\u001b[0m\u001b[0m\n",
      "\u001b[1;32m~\\Anaconda3\\envs\\sc_seq_py\\lib\\site-packages\\pandas\\io\\parsers.py\u001b[0m in \u001b[0;36mread_csv\u001b[1;34m(filepath_or_buffer, sep, delimiter, header, names, index_col, usecols, squeeze, prefix, mangle_dupe_cols, dtype, engine, converters, true_values, false_values, skipinitialspace, skiprows, skipfooter, nrows, na_values, keep_default_na, na_filter, verbose, skip_blank_lines, parse_dates, infer_datetime_format, keep_date_col, date_parser, dayfirst, cache_dates, iterator, chunksize, compression, thousands, decimal, lineterminator, quotechar, quoting, doublequote, escapechar, comment, encoding, dialect, error_bad_lines, warn_bad_lines, delim_whitespace, low_memory, memory_map, float_precision)\u001b[0m\n\u001b[0;32m    684\u001b[0m     )\n\u001b[0;32m    685\u001b[0m \u001b[1;33m\u001b[0m\u001b[0m\n\u001b[1;32m--> 686\u001b[1;33m     \u001b[1;32mreturn\u001b[0m \u001b[0m_read\u001b[0m\u001b[1;33m(\u001b[0m\u001b[0mfilepath_or_buffer\u001b[0m\u001b[1;33m,\u001b[0m \u001b[0mkwds\u001b[0m\u001b[1;33m)\u001b[0m\u001b[1;33m\u001b[0m\u001b[1;33m\u001b[0m\u001b[0m\n\u001b[0m\u001b[0;32m    687\u001b[0m \u001b[1;33m\u001b[0m\u001b[0m\n\u001b[0;32m    688\u001b[0m \u001b[1;33m\u001b[0m\u001b[0m\n",
      "\u001b[1;32m~\\Anaconda3\\envs\\sc_seq_py\\lib\\site-packages\\pandas\\io\\parsers.py\u001b[0m in \u001b[0;36m_read\u001b[1;34m(filepath_or_buffer, kwds)\u001b[0m\n\u001b[0;32m    450\u001b[0m \u001b[1;33m\u001b[0m\u001b[0m\n\u001b[0;32m    451\u001b[0m     \u001b[1;31m# Create the parser.\u001b[0m\u001b[1;33m\u001b[0m\u001b[1;33m\u001b[0m\u001b[1;33m\u001b[0m\u001b[0m\n\u001b[1;32m--> 452\u001b[1;33m     \u001b[0mparser\u001b[0m \u001b[1;33m=\u001b[0m \u001b[0mTextFileReader\u001b[0m\u001b[1;33m(\u001b[0m\u001b[0mfp_or_buf\u001b[0m\u001b[1;33m,\u001b[0m \u001b[1;33m**\u001b[0m\u001b[0mkwds\u001b[0m\u001b[1;33m)\u001b[0m\u001b[1;33m\u001b[0m\u001b[1;33m\u001b[0m\u001b[0m\n\u001b[0m\u001b[0;32m    453\u001b[0m \u001b[1;33m\u001b[0m\u001b[0m\n\u001b[0;32m    454\u001b[0m     \u001b[1;32mif\u001b[0m \u001b[0mchunksize\u001b[0m \u001b[1;32mor\u001b[0m \u001b[0miterator\u001b[0m\u001b[1;33m:\u001b[0m\u001b[1;33m\u001b[0m\u001b[1;33m\u001b[0m\u001b[0m\n",
      "\u001b[1;32m~\\Anaconda3\\envs\\sc_seq_py\\lib\\site-packages\\pandas\\io\\parsers.py\u001b[0m in \u001b[0;36m__init__\u001b[1;34m(self, f, engine, **kwds)\u001b[0m\n\u001b[0;32m    944\u001b[0m             \u001b[0mself\u001b[0m\u001b[1;33m.\u001b[0m\u001b[0moptions\u001b[0m\u001b[1;33m[\u001b[0m\u001b[1;34m\"has_index_names\"\u001b[0m\u001b[1;33m]\u001b[0m \u001b[1;33m=\u001b[0m \u001b[0mkwds\u001b[0m\u001b[1;33m[\u001b[0m\u001b[1;34m\"has_index_names\"\u001b[0m\u001b[1;33m]\u001b[0m\u001b[1;33m\u001b[0m\u001b[1;33m\u001b[0m\u001b[0m\n\u001b[0;32m    945\u001b[0m \u001b[1;33m\u001b[0m\u001b[0m\n\u001b[1;32m--> 946\u001b[1;33m         \u001b[0mself\u001b[0m\u001b[1;33m.\u001b[0m\u001b[0m_make_engine\u001b[0m\u001b[1;33m(\u001b[0m\u001b[0mself\u001b[0m\u001b[1;33m.\u001b[0m\u001b[0mengine\u001b[0m\u001b[1;33m)\u001b[0m\u001b[1;33m\u001b[0m\u001b[1;33m\u001b[0m\u001b[0m\n\u001b[0m\u001b[0;32m    947\u001b[0m \u001b[1;33m\u001b[0m\u001b[0m\n\u001b[0;32m    948\u001b[0m     \u001b[1;32mdef\u001b[0m \u001b[0mclose\u001b[0m\u001b[1;33m(\u001b[0m\u001b[0mself\u001b[0m\u001b[1;33m)\u001b[0m\u001b[1;33m:\u001b[0m\u001b[1;33m\u001b[0m\u001b[1;33m\u001b[0m\u001b[0m\n",
      "\u001b[1;32m~\\Anaconda3\\envs\\sc_seq_py\\lib\\site-packages\\pandas\\io\\parsers.py\u001b[0m in \u001b[0;36m_make_engine\u001b[1;34m(self, engine)\u001b[0m\n\u001b[0;32m   1176\u001b[0m     \u001b[1;32mdef\u001b[0m \u001b[0m_make_engine\u001b[0m\u001b[1;33m(\u001b[0m\u001b[0mself\u001b[0m\u001b[1;33m,\u001b[0m \u001b[0mengine\u001b[0m\u001b[1;33m=\u001b[0m\u001b[1;34m\"c\"\u001b[0m\u001b[1;33m)\u001b[0m\u001b[1;33m:\u001b[0m\u001b[1;33m\u001b[0m\u001b[1;33m\u001b[0m\u001b[0m\n\u001b[0;32m   1177\u001b[0m         \u001b[1;32mif\u001b[0m \u001b[0mengine\u001b[0m \u001b[1;33m==\u001b[0m \u001b[1;34m\"c\"\u001b[0m\u001b[1;33m:\u001b[0m\u001b[1;33m\u001b[0m\u001b[1;33m\u001b[0m\u001b[0m\n\u001b[1;32m-> 1178\u001b[1;33m             \u001b[0mself\u001b[0m\u001b[1;33m.\u001b[0m\u001b[0m_engine\u001b[0m \u001b[1;33m=\u001b[0m \u001b[0mCParserWrapper\u001b[0m\u001b[1;33m(\u001b[0m\u001b[0mself\u001b[0m\u001b[1;33m.\u001b[0m\u001b[0mf\u001b[0m\u001b[1;33m,\u001b[0m \u001b[1;33m**\u001b[0m\u001b[0mself\u001b[0m\u001b[1;33m.\u001b[0m\u001b[0moptions\u001b[0m\u001b[1;33m)\u001b[0m\u001b[1;33m\u001b[0m\u001b[1;33m\u001b[0m\u001b[0m\n\u001b[0m\u001b[0;32m   1179\u001b[0m         \u001b[1;32melse\u001b[0m\u001b[1;33m:\u001b[0m\u001b[1;33m\u001b[0m\u001b[1;33m\u001b[0m\u001b[0m\n\u001b[0;32m   1180\u001b[0m             \u001b[1;32mif\u001b[0m \u001b[0mengine\u001b[0m \u001b[1;33m==\u001b[0m \u001b[1;34m\"python\"\u001b[0m\u001b[1;33m:\u001b[0m\u001b[1;33m\u001b[0m\u001b[1;33m\u001b[0m\u001b[0m\n",
      "\u001b[1;32m~\\Anaconda3\\envs\\sc_seq_py\\lib\\site-packages\\pandas\\io\\parsers.py\u001b[0m in \u001b[0;36m__init__\u001b[1;34m(self, src, **kwds)\u001b[0m\n\u001b[0;32m   2006\u001b[0m         \u001b[0mkwds\u001b[0m\u001b[1;33m[\u001b[0m\u001b[1;34m\"usecols\"\u001b[0m\u001b[1;33m]\u001b[0m \u001b[1;33m=\u001b[0m \u001b[0mself\u001b[0m\u001b[1;33m.\u001b[0m\u001b[0musecols\u001b[0m\u001b[1;33m\u001b[0m\u001b[1;33m\u001b[0m\u001b[0m\n\u001b[0;32m   2007\u001b[0m \u001b[1;33m\u001b[0m\u001b[0m\n\u001b[1;32m-> 2008\u001b[1;33m         \u001b[0mself\u001b[0m\u001b[1;33m.\u001b[0m\u001b[0m_reader\u001b[0m \u001b[1;33m=\u001b[0m \u001b[0mparsers\u001b[0m\u001b[1;33m.\u001b[0m\u001b[0mTextReader\u001b[0m\u001b[1;33m(\u001b[0m\u001b[0msrc\u001b[0m\u001b[1;33m,\u001b[0m \u001b[1;33m**\u001b[0m\u001b[0mkwds\u001b[0m\u001b[1;33m)\u001b[0m\u001b[1;33m\u001b[0m\u001b[1;33m\u001b[0m\u001b[0m\n\u001b[0m\u001b[0;32m   2009\u001b[0m         \u001b[0mself\u001b[0m\u001b[1;33m.\u001b[0m\u001b[0munnamed_cols\u001b[0m \u001b[1;33m=\u001b[0m \u001b[0mself\u001b[0m\u001b[1;33m.\u001b[0m\u001b[0m_reader\u001b[0m\u001b[1;33m.\u001b[0m\u001b[0munnamed_cols\u001b[0m\u001b[1;33m\u001b[0m\u001b[1;33m\u001b[0m\u001b[0m\n\u001b[0;32m   2010\u001b[0m \u001b[1;33m\u001b[0m\u001b[0m\n",
      "\u001b[1;32mpandas\\_libs\\parsers.pyx\u001b[0m in \u001b[0;36mpandas._libs.parsers.TextReader.__cinit__\u001b[1;34m()\u001b[0m\n",
      "\u001b[1;32mpandas\\_libs\\parsers.pyx\u001b[0m in \u001b[0;36mpandas._libs.parsers.TextReader._setup_parser_source\u001b[1;34m()\u001b[0m\n",
      "\u001b[1;31mFileNotFoundError\u001b[0m: [Errno 2] No such file or directory: 'C:\\\\Users\\\\heineib\\\\Documents\\\\GitHub\\\\y1000plus_tools\\\\data\\\\y1000_species_table.csv'"
     ]
    }
   ],
   "source": [
    "y1000_species = pd.read_csv(y1000plus_dir + \"y1000_species_table.csv\", index_col=0)\n",
    "\n",
    "#Select only clades of interest: \n",
    "#clades_of_interest = {'Saccharomycetaceae','Saccharomycodaceae','Phaffomycetaceae','CUG-Ser2','CUG-Ser1','Pichiaceae','CUG-Ala'}\n",
    "#clades_of_interest = {'Saccharomycetaceae', 'Saccharomycodaceae'}\n",
    "#outgroups = [ 'Wickerhamomyces anomalus','Cyberlindnera jadinii', 'Ascoidea rubescens','Komagataella pastoris','Debaryomyces hansenii', 'Candida albicans', 'Yarrowia lipolytica']\n",
    "#outgroup = 'Yarrowia lipolytica'\n",
    "\n",
    "#y1000_species_subset = y1000_species[(y1000_species['Major clade'].isin(clades_of_interest))  |  (y1000_species['Species name'].isin(outgroups))]\n",
    "\n",
    "\n",
    "#outgroup = 'Hanseniaspora vineae'  #For EGO2/4 - only Sacch so use different outgroup\n",
    "#y1000_species_subset = pd.concat([y1000_species_subset, y1000_species[y1000_species['Species name']==outgroup]])\n",
    "\n",
    "y1000_species_subset = y1000_species[y1000_species['Major clade']!='outgroup']\n",
    "#y1000_species_subset = y1000_species\n"
   ]
  },
  {
   "cell_type": "code",
   "execution_count": 6,
   "metadata": {},
   "outputs": [
    {
     "name": "stdout",
     "output_type": "stream",
     "text": [
      "more than one goi in same orthogroup :OG4796 found_genes: \n",
      "['110_2527', '110_166', '110_1854']\n"
     ]
    }
   ],
   "source": [
    "#Load S.Cer lookup table: \n",
    "scer_lookup_fname = y1000plus_dir + os.path.normpath('y1000plus_tools_data/y1000plus/id_lookups/saccharomyces_cerevisiae.csv')\n",
    "\n",
    "scer_lookup = pd.read_csv(scer_lookup_fname, index_col=0)\n",
    "scer_y1000_id_gene_id_lookup = dict(zip(scer_lookup['y1000_id'], scer_lookup.index))\n",
    "\n",
    "#target_y1000_id = scer_lookup.loc['YPR062W','y1000_id']\n",
    "target_y1000_ids = scer_lookup.loc[['YJL164C', 'YKL166C','YPL203W'], 'y1000_id']\n",
    "\n",
    "y1000_id_list = target_y1000_ids\n",
    "goi_og_lookup, og_genes_lookup = y1000plus_tools.make_og_genes_lookup(y1000_id_list, y1000_species_subset)"
   ]
  },
  {
   "cell_type": "code",
   "execution_count": 8,
   "metadata": {},
   "outputs": [
    {
     "data": {
      "text/plain": [
       "{'110_2527': 'OG4796', '110_166': 'OG4796', '110_1854': 'OG4796'}"
      ]
     },
     "execution_count": 8,
     "metadata": {},
     "output_type": "execute_result"
    }
   ],
   "source": [
    "goi_og_lookup"
   ]
  },
  {
   "cell_type": "code",
   "execution_count": 9,
   "metadata": {},
   "outputs": [
    {
     "name": "stdout",
     "output_type": "stream",
     "text": [
      "yHMPu5000034883_peterozyma_xylosa_160519\n",
      "candida_albicans\n",
      "saccharomyces_arboricola\n",
      "nakazawaea_peltata\n",
      "metschnikowia_arizonensis\n",
      "spathaspora_gorwiae\n",
      "yHMPu5000035671_phaffomyces_antillensis_160613\n",
      "pichia_membranifaciens\n",
      "yHMPu5000035032_candida_gatunensis_160519\n",
      "lachancea_lanzarotensis\n",
      "yHMPu5000034990_candida_corydali_160519\n",
      "saccharomyces_cerevisiae\n",
      "yHMPu5000034612_saturnispora_saitoi_160519\n",
      "cyberlindnera_fabianii_JCM3601\n",
      "yHMPu5000034884_peterozyma_toletana_160519\n",
      "candida_parapsilosis\n",
      "yHMPu5000034891_ogataea_pini_160519\n",
      "ascoidea_asiatica\n",
      "pachysolen_tannophilus\n",
      "metschnikowia_mauinuiana\n",
      "yHMPu5000034899_ogataea_kodamae_160519\n",
      "metschnikowia_hamakuensis\n",
      "yHAB160_kazachstania_kunashirensis_160519\n",
      "yHMPu5000034622_pichia_occidentalis_160519\n",
      "yHMPu5000035707_candida_heveicola_160519\n",
      "metschnikowia_matae\n",
      "naumovozyma_castellii\n",
      "yHMPu5000034648_candida_restingae_160519\n",
      "hanseniaspora_valbyensis\n",
      "nakaseomyces_nivariensis\n",
      "yHMPu5000035629_yueomyces_sinensis_160519\n",
      "yHMPu5000035033_candida_cretensis_160519\n",
      "candida_boidinii_JCM9604\n",
      "yHMPu5000034886_ogataea_trehalophila_160519\n",
      "yHMPu5000034610_saturnispora_hagleri_160519\n",
      "metschnikowia_kipukae\n",
      "yHMPu5000035037_candida_montana_160519\n",
      "yHMPu5000034673_blastobotrys_nivea_160519\n",
      "yHMPu5000041743_candida_hawaiiana_160928\n",
      "yHMPu5000035252_yamadazyma_nakazawae_160928\n",
      "nakaseomyces_castellii\n",
      "metschnikowia_similis\n",
      "yHMPu5000034875_tetrapisispora_fleetii_160519\n",
      "saccharomyces_mikatae\n",
      "yHMPu5000035681_candida_gotoi_160519\n",
      "yHMPu5000034760_lipomyces_kononenkoae_160519\n",
      "metschnikowia_drakensbergensis\n",
      "komagataella_pastoris\n",
      "nadsonia_fulvescens_var_elongata\n",
      "yHAB134_kazachstania_turicensis_160519\n",
      "yHMPu5000034865_zygosaccharomyces_kombuchaensis_160519\n",
      "metschnikowia_hibisci\n",
      "yHMPu5000034643_candida_schatavii_160519\n",
      "yHMPu5000034963_hanseniaspora_clermontiae_160519\n",
      "yHMPu5000034615_saturnispora_zaruensis_160519\n",
      "yHMPu5000026152_torulaspora_franciscae_160519\n",
      "vanderwaltozyma_polyspora\n",
      "candida_sojae\n",
      "wickerhamomyces_anomalus\n",
      "candida_glabrata\n",
      "yHMPu5000035684_kloeckera_hatyaiensis_160519\n",
      "lachancea_meyersii\n",
      "yHMPu5000035662_meyerozyma_caribbica_160613\n",
      "scheffersomyces_lignosus\n",
      "yHAB164_kazachstania_aerobia_160519\n",
      "yHMPu5000034624_pichia_nakasei_160519\n",
      "metschnikowia_matae_maris\n",
      "yHMPu5000034629_pichia_exigua_160519\n",
      "yHMPu5000035667_kurtzmaniella_cleridarum_160928\n",
      "yHMPu5000035633_candida_hispaniensis_160519\n",
      "lachancea_quebecensis\n",
      "priceomyces_haplophilus\n",
      "yHAB148_kazachstania_intestinalis_160519\n",
      "torulaspora_delbrueckii\n",
      "eremothecium_cymbalariae\n",
      "metschnikowia_dekortum\n",
      "zygosaccharomyces_bailii\n",
      "metschnikowia_cerradonensis\n",
      "candida_auris\n",
      "metschnikowia_proteae\n",
      "yHMPu5000035659_saturnispora_dispora_160519\n",
      "yHAB147_kazachstania_taianensis_160519\n",
      "yHAB158_kazachstania_viticola_160519\n",
      "yHMPu5000034632_candida_athensensis_160519\n",
      "candida_carpophila\n",
      "yHMPu5000034988_candida_fructus_160519\n",
      "metschnikowia_hawaiiensis\n",
      "hanseniaspora_uvarum\n",
      "yHAB155_kazachstania_spencerorum_160519\n",
      "yHMPu5000035675_kregervanrija_fluxuum_160613\n",
      "yHMPu5000035673_candida_orba_160613\n",
      "yHMPu5000035670_phaffomyces_opuntiae_160613\n",
      "metschnikowia_borealis\n",
      "metschnikowia_kamakouana\n",
      "yHMPu5000034890_ogataea_ramenticola_160519\n",
      "yHMPu5000041840_candida_wancherniae_160928\n",
      "yHMPu5000035703_cyberlindnera_americana_160613\n",
      "yHMPu5000026142_citeromyces_matritensis_160519\n",
      "cyberlindnera_jadinii\n",
      "yHMPu5000034939_komagataella_pseudopastoris_160519\n",
      "yHMPu5000035688_cyberlindnera_xylosilytica_160519\n",
      "candida_arabinofermentans\n",
      "lachancea_waltii\n",
      "ascoidea_rubescens\n",
      "metschnikowia_lockheadii\n",
      "yHMPu5000034614_saturnispora_silvae_160519\n",
      "yHMPu5000035301_pichia_terricola_160928\n",
      "yHMPu5000034902_ogataea_minuta_160519\n",
      "yHMPu5000035674_kregervanrija_delftensis_160613\n",
      "lachancea_kluyveri\n",
      "yHMPu5000035699_cyberlindnera_maclurae_160613\n",
      "yHMPu5000035696_hanseniaspora_singularis_160519\n",
      "babjeviella_inositovora\n",
      "yHMPu5000034670_blastobotrys_proliferans_160519\n",
      "wickerhamomyces_ciferrii\n",
      "saccharomyces_uvarum\n",
      "yHMPu5000034892_ogataea_pilisensis_160519\n",
      "saccharomyces_paradoxus\n",
      "tetrapisispora_phaffii\n",
      "yHAB159_kazachstania_solicola_160519\n",
      "yHMPu5000034623_pichia_norvegensis_160519\n",
      "yHMPu5000035271_wickerhamomyces_bovis_160928\n",
      "yHMPu5000035302_candida_fragi_160928\n",
      "yHMPu5000041862_candida_golubevii_160928\n",
      "naumovozyma_dairenensis\n",
      "yHMPu5000035335_candida_blattae_160928\n",
      "yHAB153_kazachstania_rosinii_160519\n",
      "candida_intermedia\n",
      "yHAB154_kazachstania_transvaalensis_160519\n",
      "metschnikowia_bowlesiae\n",
      "metschnikowia_santaceciliae\n",
      "yHMPu5000034881_torulaspora_pretoriensis_160519\n",
      "yHMPu5000034606_priceomyces_medius_160519\n",
      "yHMPu5000035677_kodamaea_ohmeri_160519\n",
      "yHMPu5000034636_ogataea_nitratoaversa_160519\n",
      "yHAB166_kazachstania_yakushimaensis_160519\n",
      "yHMPu5000034625_pichia_kudriavzevii_160519\n",
      "ogataea_methanolica\n",
      "scheffersomyces_stipitis\n",
      "yHMPu5000034613_saturnispora_serradocipensis_160519\n",
      "lachancea_fantastica\n",
      "lachancea_nothofagi\n",
      "yHAB136_kazachstania_bromeliacearum_160519\n",
      "yHMPu5000034903_ogataea_naganishii_160519\n",
      "yHMPu5000035318_hyphopichia_heimii_160928\n",
      "yHMPu5000035325_cyberlindnera_petersonii_160928\n",
      "metschnikowia_continentalis\n",
      "yHAB132_kazachstania_martiniae_160519\n",
      "yHMPu5000034611_saturnispora_mendoncae_160519\n",
      "yHMPu5000034758_lipomyces_japonicus_160519\n",
      "yHMPu5000035690_candida_vartiovaarae_160613\n",
      "yHAB133_kazachstania_unispora_160519\n",
      "yHMPu5000035695_hanseniaspora_pseudoguilliermondii_160519\n",
      "tetrapisispora_blattae\n",
      "hanseniaspora_vinae\n",
      "lachancea_thermotolerans\n",
      "saccharomyces_kudriavzevii\n",
      "yHMPu5000034607_saccharomycopsis_capsularis_160519\n",
      "metschnikowia_ipomoeae\n",
      "yHMPu5000034973_danielozyma_ontarioensis_160519\n",
      "yHMPu5000035018_candida_canberraensis_160519\n",
      "yHMPu5000034665_kodamaea_laetipori_160519\n",
      "lachancea_dasiensis\n",
      "yHMPu5000034627_pichia_heedii_160519\n",
      "candida_tropicalis\n",
      "saccharomycopsis_malanga\n",
      "candida_dubliniensis\n",
      "yHMPu5000034957_hanseniaspora_osmophila_160519\n",
      "yHMPu5000034999_cephaloascus_fragrans_160519\n",
      "yHMPu5000026274_komagataella_populi_160519\n",
      "yHMPu5000035031_candida_kruisii_160519\n",
      "yHMPu5000034952_citeromyces_siamensis_160519\n",
      "yHMPu5000034877_tetrapisispora_namnaonensis_160519\n",
      "ambrosiozyma_monospora\n",
      "TPK protein sequence extraction complete\n"
     ]
    }
   ],
   "source": [
    "protein_fname = 'TPK'\n",
    "og_genes = og_genes_lookup['OG4796']\n",
    "y1000plus_tools.extract_protein_seqs(og_genes, protein_fname, y1000_species_subset)\n",
    "print(protein_fname + ' protein sequence extraction complete')"
   ]
  },
  {
   "cell_type": "code",
   "execution_count": 12,
   "metadata": {},
   "outputs": [
    {
     "name": "stdout",
     "output_type": "stream",
     "text": [
      "mafft --genafpair --maxiterate 1000 /home/heineike/GitHub/y1000plus_tools/data/y1000plus_tools_data/y1000plus/proteins_og/TPK/TPK.fasta > /home/heineike/GitHub/y1000plus_tools/data/y1000plus_tools_data/y1000plus/proteins_og/TPK/TPK_aln.fasta\n",
      "\n",
      "Trimal command\n",
      "\n",
      "/home/heineike/trimAl/source/trimal -in /home/heineike/GitHub/y1000plus_tools/data/y1000plus_tools_data/y1000plus/proteins_og/TPK/TPK_aln.fasta -out /home/heineike/GitHub/y1000plus_tools/data/y1000plus_tools_data/y1000plus/proteins_og/TPK/TPK_aln_trimmed.fasta -gappyout\n"
     ]
    }
   ],
   "source": [
    "goi = 'TPK'\n",
    "\n",
    "protein_fname_base = y1000_plus_dir_ubuntu + 'y1000plus_tools_data/y1000plus/proteins_og/' + goi + '/' + goi\n",
    "\n",
    "#Command:   mafft v 7.487\n",
    "mafft_command = ['mafft', '--genafpair', '--maxiterate', '1000', \n",
    "                protein_fname_base + '.fasta', \n",
    "                '>',\n",
    "                protein_fname_base + '_aln.fasta']\n",
    "\n",
    "\n",
    "print(\" \".join(mafft_command))\n",
    "\n",
    "\n",
    "#Trimming Command: \n",
    "#trimal 1.2r59\n",
    "#Had to install g++ on the linux system to make the program.  \n",
    "trimal_command = ['/home/heineike/trimAl/source/trimal',\n",
    "                  '-in', protein_fname_base + '_aln.fasta', \n",
    "                  '-out', protein_fname_base + '_aln_trimmed.fasta', \n",
    "                  '-gappyout']\n",
    "\n",
    "print(\"\\nTrimal command\\n\")\n",
    "print(\" \".join(trimal_command))"
   ]
  },
  {
   "cell_type": "code",
   "execution_count": 14,
   "metadata": {},
   "outputs": [
    {
     "data": {
      "text/plain": [
       "{'CUG-Ala',\n",
       " 'CUG-Ser1',\n",
       " 'CUG-Ser2',\n",
       " 'Dipodascaceae/Trichomonascaceae',\n",
       " 'Lipomycetaceae',\n",
       " 'Phaffomycetaceae',\n",
       " 'Pichiaceae',\n",
       " 'Saccharomycetaceae',\n",
       " 'Saccharomycodaceae'}"
      ]
     },
     "execution_count": 14,
     "metadata": {},
     "output_type": "execute_result"
    }
   ],
   "source": [
    "#Check to see which major clades / species are present in the orthogroup if \n",
    "#there is no good outgroup\n",
    "#og_genes = og_genes_lookup[goi_og_lookup[protein_fnames[goi]]]\n",
    "specs_in_og = []\n",
    "for gene in og_genes: \n",
    "    specs_in_og.append(gene.split('_')[0])\n",
    "\n",
    "set(y1000_species_subset[y1000_species_subset['spec_og_id'].isin(set(specs_in_og))]['Major clade'])\n"
   ]
  },
  {
   "cell_type": "code",
   "execution_count": 16,
   "metadata": {},
   "outputs": [
    {
     "name": "stdout",
     "output_type": "stream",
     "text": [
      "outgroup gene id = 214_4638\n",
      "outgroup gene = yHMPu5000034758_lipomyces_japonicus_160519_Seq_4639\n"
     ]
    }
   ],
   "source": [
    "#yHMPu5000034758_lipomyces_japonicus_160519\n",
    "#choose outgroup species (important for making protein trees from multiple sequence alignments) \n",
    "outgroup = 'Lipomyces japonicus'#'Lipomyces starkeyi'#'Yarrowia lipolytica' #'Hanseniaspora vineae'#'Yarrowia lipolytica' #'Lipomyces starkeyi' # 'Tortispora starmeri' #'Lipomyces starkeyi'   #Lipomyces starkeyi is a good outgroup for all the species\n",
    "\n",
    "outgroup_orig_genome = y1000_species[y1000_species['Species name']==outgroup]['original_genome_id'].values[0]\n",
    "\n",
    "#Test to see if orthogroup has something from outgroup: \n",
    "\n",
    "y1000_id_outgroup = y1000_species_subset[y1000_species_subset['Species name']==outgroup]['spec_og_id'].values[0]\n",
    "\n",
    "outgroup_gene = ''\n",
    "for gene in og_genes:#og_genes: \n",
    "    y1000_spec_id = gene.split('_')[0]\n",
    "    if y1000_spec_id == str(y1000_id_outgroup):\n",
    "        outgroup_gene_id = gene\n",
    "        \n",
    "outgrp_orig_spec_name = y1000_species_subset[y1000_species_subset['Species name']==outgroup]['original_genome_id'].values[0]\n",
    "outgrp_lookup_fname = y1000plus_dir + os.path.normpath('y1000plus_tools_data/y1000plus/id_lookups/' + outgrp_orig_spec_name + '.csv')\n",
    "\n",
    "outgrp_lookup = pd.read_csv(outgrp_lookup_fname, index_col=0)\n",
    "y1000_species_subset[y1000_species_subset['Species name']==outgroup]['original_genome_id'].values[0]\n",
    "outgroup_gene = outgrp_orig_spec_name  + '_' + outgrp_lookup[outgrp_lookup['y1000_id']==outgroup_gene_id].index[0]\n",
    "    \n",
    "\n",
    "if outgroup_gene =='': \n",
    "    print(outgroup + ' has no proteins in og ' + ogs + ' for ' + goi + '. Pick another outgroup')\n",
    "else: \n",
    "    print('outgroup gene id = ' + outgroup_gene_id)\n",
    "    print('outgroup gene = ' + outgroup_gene)\n"
   ]
  },
  {
   "cell_type": "code",
   "execution_count": 18,
   "metadata": {},
   "outputs": [
    {
     "name": "stdout",
     "output_type": "stream",
     "text": [
      "/home/heineike/iqtree-1.6.12-Linux/bin/iqtree -s /home/heineike/GitHub/y1000plus_tools/data/y1000plus_tools_data/y1000plus/proteins_og/TPK/TPK_aln_trimmed.fasta -m LG+R8 -nt AUTO -o yHMPu5000034758_lipomyces_japonicus_160519_Seq_4639\n"
     ]
    }
   ],
   "source": [
    "#iqtree-1.6.12 linux 64 bit\n",
    "outgroup_id = 'yHMPu5000034758_lipomyces_japonicus_160519_Seq_4639'\n",
    "iqtree_command = [\"/home/heineike/iqtree-1.6.12-Linux/bin/iqtree\", \n",
    "                  \"-s\" , protein_fname_base + '_aln_trimmed.fasta',\n",
    "                  \"-m\", 'LG+R8',  #The first two were LG+R7 and LG+R8, so used LG+R8 to save time\n",
    "                  \"-nt\", \"AUTO\",  #automatically determines number of threads \n",
    "                  \"-o\", outgroup_id]\n",
    "print(\" \".join(iqtree_command))"
   ]
  }
 ],
 "metadata": {
  "kernelspec": {
   "display_name": "Python 3",
   "language": "python",
   "name": "python3"
  },
  "language_info": {
   "codemirror_mode": {
    "name": "ipython",
    "version": 3
   },
   "file_extension": ".py",
   "mimetype": "text/x-python",
   "name": "python",
   "nbconvert_exporter": "python",
   "pygments_lexer": "ipython3",
   "version": "3.7.9"
  }
 },
 "nbformat": 4,
 "nbformat_minor": 4
}
